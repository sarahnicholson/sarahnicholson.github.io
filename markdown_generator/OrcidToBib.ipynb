{
 "cells": [
  {
   "cell_type": "code",
   "execution_count": 9,
   "id": "01f0c5c2-619a-48e0-bb7c-e5e0be009f0e",
   "metadata": {},
   "outputs": [],
   "source": [
    "orcid = '0000-0002-1226-1828' # Fill your orcid here"
   ]
  },
  {
   "cell_type": "code",
   "execution_count": 10,
   "id": "2fe4bc4e-4574-4322-8b18-0c4d33a749fa",
   "metadata": {},
   "outputs": [],
   "source": [
    "import requests"
   ]
  },
  {
   "cell_type": "markdown",
   "id": "44a8b6cd-4034-4fc4-85a8-e3431dc564f1",
   "metadata": {},
   "source": [
    "We use the `/works` api to list all works related to the orcid. This gives a summary of all works, so citation information is not included. We collect the `put-code` of all works to retrieve the citation information later."
   ]
  },
  {
   "cell_type": "code",
   "execution_count": 16,
   "id": "3b04331e-4149-4ca3-a0aa-89e3ba892723",
   "metadata": {},
   "outputs": [],
   "source": [
    "response = requests.get('https://pub.orcid.org/v3.0/0000-0002-1226-1828/works',\n",
    "                        headers={\"Accept\": \"application/orcid+json\" })\n",
    "record = response.json()"
   ]
  },
  {
   "cell_type": "code",
   "execution_count": 20,
   "id": "16f7c42d-623b-421a-8d87-bbb389313e3b",
   "metadata": {
    "scrolled": true
   },
   "outputs": [],
   "source": [
    "put_codes = []\n",
    "for work in record['group']:\n",
    "    put_code = work['work-summary'][0]['put-code']\n",
    "    put_codes.append(put_code)\n",
    "put_code = put_codes[0]"
   ]
  },
  {
   "cell_type": "code",
   "execution_count": null,
   "id": "cf18effa",
   "metadata": {},
   "outputs": [],
   "source": []
  },
  {
   "cell_type": "markdown",
   "id": "25e5d2aa-5233-486e-abce-a0d07a36c5ce",
   "metadata": {},
   "source": [
    "We use the `/<orcid>/work/<put-code>` endpoint to retrieve the citation information for each record."
   ]
  },
  {
   "cell_type": "code",
   "execution_count": 21,
   "id": "dd797a16-0d91-4271-8e1e-b82579a07e45",
   "metadata": {},
   "outputs": [],
   "source": [
    "citations = []\n",
    "for put_code in put_codes:\n",
    "    response = requests.get('https://pub.orcid.org/v3.0/{}/work/{}'.format(orcid, put_code),\n",
    "                            headers={\"Accept\": \"application/orcid+json\" })\n",
    "    work = response.json()\n",
    "    if work['citation'] is not None:\n",
    "        citations.append(work['citation']['citation-value'])"
   ]
  },
  {
   "cell_type": "code",
   "execution_count": 23,
   "id": "ad763df9-261f-41f3-bc32-00921d0a4e11",
   "metadata": {},
   "outputs": [],
   "source": [
    "with open('output.bib', 'w') as bibfile:\n",
    "    for citation in citations:\n",
    "        bibfile.write(citation)\n",
    "        bibfile.write('\\n')"
   ]
  },
  {
   "cell_type": "code",
   "execution_count": 24,
   "id": "2240f4c8",
   "metadata": {},
   "outputs": [
    {
     "data": {
      "text/plain": [
       "['<head>\\n<META HTTP-EQUIV=\"Refresh\" CONTENT=\"0;URL=/servlet/useragent\">\\n</head>\\n',\n",
       " '<head>\\n<META HTTP-EQUIV=\"Refresh\" CONTENT=\"0;URL=/servlet/useragent\">\\n</head>\\n',\n",
       " '@article{Giddy_2021,\\n\\tdoi = {10.1002/essoar.10508727.1},\\n\\turl = {https://doi.org/10.1002%2Fessoar.10508727.1},\\n\\tyear = 2021,\\n\\tmonth = {nov},\\n\\tpublisher = {Wiley},\\n\\tauthor = {Isabelle Sindiswa Giddy and Sarah-Anne Nicholson and Bastien Yves Queste and Sandy J. Thomalla and Sebastiaan Swart},\\n\\ttitle = {Sea-ice impacts inter-annual variability in bloom phenology and carbon export}\\n}',\n",
       " '@article{Giddy_2020,\\n\\tdoi = {10.1002/essoar.10504395.1},\\n\\turl = {https://doi.org/10.1002%2Fessoar.10504395.1},\\n\\tyear = 2020,\\n\\tmonth = {sep},\\n\\tpublisher = {Wiley},\\n\\tauthor = {Isabelle S. Giddy and Sebastiaan Swart and Andrew F. Thompson and Marcel du Plessis and Sarah-Anne Nicholson},\\n\\ttitle = {Stirring of sea ice meltwater enhances submesoscale fronts in the Southern Ocean}\\n}',\n",
       " '@article{Whitt_2019,\\n\\tdoi = {10.1029/2019jc015166},\\n\\turl = {https://doi.org/10.1029%2F2019jc015166},\\n\\tyear = 2019,\\n\\tmonth = {dec},\\n\\tpublisher = {American Geophysical Union ({AGU})},\\n\\tvolume = {124},\\n\\tnumber = {12},\\n\\tpages = {8798--8831},\\n\\tauthor = {D. B. Whitt and S. A. Nicholson and M. M. Carranza},\\n\\ttitle = {Global Impacts of Subseasonal ($\\\\less$60~Day) Wind Variability on Ocean Surface Stress, Buoyancy Flux, and Mixed Layer Depth},\\n\\tjournal = {Journal of Geophysical Research: Oceans}\\n}',\n",
       " '@article{Mtshali_2019,\\n\\tdoi = {10.1029/2018gl081355},\\n\\turl = {https://doi.org/10.1029%2F2018gl081355},\\n\\tyear = 2019,\\n\\tmonth = {apr},\\n\\tpublisher = {American Geophysical Union ({AGU})},\\n\\tvolume = {46},\\n\\tnumber = {8},\\n\\tpages = {4386--4395},\\n\\tauthor = {T. N. Mtshali and N. R. Horsten and S. J. Thomalla and T. J. Ryan-Keogh and S.-A. Nicholson and A. N. Roychoudhury and E. Bucciarelli and G. Sarthou and A. Tagliabue and P. M. S. Monteiro},\\n\\ttitle = {Seasonal Depletion of the Dissolved Iron Reservoirs in the Sub-Antarctic Zone of the Southern Atlantic Ocean},\\n\\tjournal = {Geophysical Research Letters}\\n}']"
      ]
     },
     "execution_count": 24,
     "metadata": {},
     "output_type": "execute_result"
    }
   ],
   "source": [
    "citations"
   ]
  },
  {
   "cell_type": "code",
   "execution_count": null,
   "id": "32ed3c11",
   "metadata": {},
   "outputs": [],
   "source": []
  }
 ],
 "metadata": {
  "kernelspec": {
   "display_name": "Python (pytrend)",
   "language": "python",
   "name": "pytrend"
  },
  "language_info": {
   "codemirror_mode": {
    "name": "ipython",
    "version": 3
   },
   "file_extension": ".py",
   "mimetype": "text/x-python",
   "name": "python",
   "nbconvert_exporter": "python",
   "pygments_lexer": "ipython3",
   "version": "3.12.7"
  }
 },
 "nbformat": 4,
 "nbformat_minor": 5
}
